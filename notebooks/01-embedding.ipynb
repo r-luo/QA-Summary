{
 "cells": [
  {
   "cell_type": "code",
   "execution_count": 1,
   "metadata": {
    "ExecuteTime": {
     "end_time": "2020-03-20T04:24:25.334934Z",
     "start_time": "2020-03-20T04:24:25.314055Z"
    }
   },
   "outputs": [],
   "source": [
    "%load_ext autoreload\n",
    "%autoreload 2"
   ]
  },
  {
   "cell_type": "code",
   "execution_count": 2,
   "metadata": {
    "ExecuteTime": {
     "end_time": "2020-03-20T04:24:25.349224Z",
     "start_time": "2020-03-20T04:24:25.337442Z"
    }
   },
   "outputs": [],
   "source": [
    "import sys\n",
    "from pathlib import Path\n",
    "sys.path.append(Path().absolute().parent.as_posix())"
   ]
  },
  {
   "cell_type": "code",
   "execution_count": 3,
   "metadata": {
    "ExecuteTime": {
     "end_time": "2020-03-20T04:24:27.198481Z",
     "start_time": "2020-03-20T04:24:25.352024Z"
    },
    "scrolled": true
   },
   "outputs": [
    {
     "name": "stderr",
     "output_type": "stream",
     "text": [
      "Building prefix dict from the default dictionary ...\n",
      "DEBUG:jieba:Building prefix dict from the default dictionary ...\n",
      "Loading model from cache /tmp/jieba.cache\n",
      "DEBUG:jieba:Loading model from cache /tmp/jieba.cache\n",
      "Loading model cost 0.568 seconds.\n",
      "DEBUG:jieba:Loading model cost 0.568 seconds.\n",
      "Prefix dict has been built successfully.\n",
      "DEBUG:jieba:Prefix dict has been built successfully.\n"
     ]
    }
   ],
   "source": [
    "import pandas as pd\n",
    "from helpers.utils import *\n",
    "from helpers.word2vec import *\n",
    "import yaml\n",
    "import numpy as np\n",
    "from matplotlib import pylab as plt"
   ]
  },
  {
   "cell_type": "code",
   "execution_count": 4,
   "metadata": {
    "ExecuteTime": {
     "end_time": "2020-03-20T04:24:27.211844Z",
     "start_time": "2020-03-20T04:24:27.199986Z"
    }
   },
   "outputs": [],
   "source": [
    "data_path = Path().absolute().parent.joinpath('data')\n",
    "models_path = Path().absolute().parent.joinpath('models')\n",
    "sentence_path = data_path.joinpath('sentences_unmasked')"
   ]
  },
  {
   "cell_type": "code",
   "execution_count": 5,
   "metadata": {
    "ExecuteTime": {
     "end_time": "2020-03-20T04:24:27.224778Z",
     "start_time": "2020-03-20T04:24:27.212807Z"
    }
   },
   "outputs": [],
   "source": [
    "emb = QAEmbedding(sg=1, hs=1, size=1000, window=7, workers=12, alpha=0.1, seed=8761234)"
   ]
  },
  {
   "cell_type": "code",
   "execution_count": 6,
   "metadata": {
    "ExecuteTime": {
     "end_time": "2020-03-20T04:24:33.050466Z",
     "start_time": "2020-03-20T04:24:27.225819Z"
    }
   },
   "outputs": [],
   "source": [
    "emb.load_sentences(sentence_path.glob('*'))"
   ]
  },
  {
   "cell_type": "code",
   "execution_count": 7,
   "metadata": {
    "ExecuteTime": {
     "end_time": "2020-03-20T04:29:19.631691Z",
     "start_time": "2020-03-20T04:24:33.051838Z"
    }
   },
   "outputs": [
    {
     "data": {
      "text/plain": [
       "<helpers.word2vec.QAEmbedding at 0x7f2dca563c10>"
      ]
     },
     "execution_count": 7,
     "metadata": {},
     "output_type": "execute_result"
    }
   ],
   "source": [
    "emb.word2vec()"
   ]
  },
  {
   "cell_type": "code",
   "execution_count": 8,
   "metadata": {
    "ExecuteTime": {
     "end_time": "2020-03-20T04:29:19.761368Z",
     "start_time": "2020-03-20T04:29:19.633356Z"
    }
   },
   "outputs": [
    {
     "data": {
      "text/plain": [
       "[('充分', 0.5666783452033997),\n",
       " ('屑', 0.5660269260406494),\n",
       " ('贵士', 0.5509167909622192),\n",
       " ('慢', 0.5475996136665344),\n",
       " ('稳定性', 0.5437985062599182),\n",
       " ('低等', 0.5426039099693298),\n",
       " ('灯碗', 0.5352643728256226),\n",
       " ('导至', 0.5301600098609924),\n",
       " ('匀速', 0.5296051502227783),\n",
       " ('轮异响', 0.5217100381851196)]"
      ]
     },
     "execution_count": 8,
     "metadata": {},
     "output_type": "execute_result"
    }
   ],
   "source": [
    "emb.top_similar('发动机', topn=10)"
   ]
  },
  {
   "cell_type": "code",
   "execution_count": 9,
   "metadata": {
    "ExecuteTime": {
     "end_time": "2020-03-20T04:29:21.788206Z",
     "start_time": "2020-03-20T04:29:19.763010Z"
    }
   },
   "outputs": [],
   "source": [
    "emb.save_model(path=models_path, )"
   ]
  },
  {
   "cell_type": "code",
   "execution_count": 10,
   "metadata": {
    "ExecuteTime": {
     "end_time": "2020-03-20T04:29:44.493301Z",
     "start_time": "2020-03-20T04:29:21.790302Z"
    }
   },
   "outputs": [],
   "source": [
    "emb.save_embedding(path=data_path, )"
   ]
  },
  {
   "cell_type": "code",
   "execution_count": null,
   "metadata": {},
   "outputs": [],
   "source": []
  }
 ],
 "metadata": {
  "kernelspec": {
   "display_name": "Python 3",
   "language": "python",
   "name": "python3"
  },
  "language_info": {
   "codemirror_mode": {
    "name": "ipython",
    "version": 3
   },
   "file_extension": ".py",
   "mimetype": "text/x-python",
   "name": "python",
   "nbconvert_exporter": "python",
   "pygments_lexer": "ipython3",
   "version": "3.7.6"
  }
 },
 "nbformat": 4,
 "nbformat_minor": 4
}
