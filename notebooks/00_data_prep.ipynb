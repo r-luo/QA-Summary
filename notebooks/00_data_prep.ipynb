{
 "cells": [
  {
   "cell_type": "code",
   "execution_count": 1,
   "metadata": {
    "ExecuteTime": {
     "end_time": "2020-03-15T01:25:16.128882Z",
     "start_time": "2020-03-15T01:25:16.107214Z"
    },
    "scrolled": true
   },
   "outputs": [],
   "source": [
    "%load_ext autoreload\n",
    "%autoreload 2"
   ]
  },
  {
   "cell_type": "code",
   "execution_count": 2,
   "metadata": {
    "ExecuteTime": {
     "end_time": "2020-03-15T01:25:16.144194Z",
     "start_time": "2020-03-15T01:25:16.131834Z"
    }
   },
   "outputs": [],
   "source": [
    "import sys\n",
    "from pathlib import Path\n",
    "sys.path.append(Path().absolute().parent.as_posix())"
   ]
  },
  {
   "cell_type": "code",
   "execution_count": 3,
   "metadata": {
    "ExecuteTime": {
     "end_time": "2020-03-15T01:25:17.787016Z",
     "start_time": "2020-03-15T01:25:16.147193Z"
    }
   },
   "outputs": [
    {
     "name": "stderr",
     "output_type": "stream",
     "text": [
      "Building prefix dict from the default dictionary ...\n",
      "DEBUG:jieba:Building prefix dict from the default dictionary ...\n",
      "Loading model from cache /tmp/jieba.cache\n",
      "DEBUG:jieba:Loading model from cache /tmp/jieba.cache\n",
      "Loading model cost 0.572 seconds.\n",
      "DEBUG:jieba:Loading model cost 0.572 seconds.\n",
      "Prefix dict has been built successfully.\n",
      "DEBUG:jieba:Prefix dict has been built successfully.\n"
     ]
    }
   ],
   "source": [
    "import pandas as pd\n",
    "from helpers.data_prep import *\n",
    "from helpers.utils import *\n",
    "import yaml\n",
    "import numpy as np\n",
    "from matplotlib import pylab as plt"
   ]
  },
  {
   "cell_type": "code",
   "execution_count": 4,
   "metadata": {
    "ExecuteTime": {
     "end_time": "2020-03-15T01:25:17.797750Z",
     "start_time": "2020-03-15T01:25:17.788737Z"
    }
   },
   "outputs": [],
   "source": [
    "import logging\n",
    "LOG = logging.getLogger()\n",
    "LOG.setLevel(logging.DEBUG)"
   ]
  },
  {
   "cell_type": "code",
   "execution_count": 5,
   "metadata": {
    "ExecuteTime": {
     "end_time": "2020-03-15T01:25:17.808497Z",
     "start_time": "2020-03-15T01:25:17.799107Z"
    }
   },
   "outputs": [
    {
     "name": "stdout",
     "output_type": "stream",
     "text": [
      "/mnt/raid/Classes/houchang/nlp2020/QA-Summary/data\n"
     ]
    }
   ],
   "source": [
    "data_path = Path().absolute().parent.joinpath('data')\n",
    "print(data_path)"
   ]
  },
  {
   "cell_type": "code",
   "execution_count": 96,
   "metadata": {
    "ExecuteTime": {
     "end_time": "2020-03-20T02:50:13.561084Z",
     "start_time": "2020-03-20T02:50:13.534034Z"
    }
   },
   "outputs": [],
   "source": [
    "train_file = data_path.joinpath('AutoMaster_TrainSet.csv')\n",
    "test_file = data_path.joinpath('AutoMaster_TestSet.csv')\n",
    "stopwords_file = data_path.joinpath('stopwords.yml')\n",
    "replacements_file = data_path.joinpath('replacements.yml')\n",
    "freq_file = data_path.joinpath('word_freq.csv')\n",
    "vocab_file = data_path.joinpath('vocab.yml')"
   ]
  },
  {
   "cell_type": "markdown",
   "metadata": {},
   "source": [
    "# Load data, separate Question, Dialogue, Report (if exists)"
   ]
  },
  {
   "cell_type": "code",
   "execution_count": 85,
   "metadata": {
    "ExecuteTime": {
     "end_time": "2020-03-15T01:50:27.450519Z",
     "start_time": "2020-03-15T01:50:27.335763Z"
    }
   },
   "outputs": [],
   "source": []
  },
  {
   "cell_type": "code",
   "execution_count": 8,
   "metadata": {
    "ExecuteTime": {
     "end_time": "2020-03-15T01:26:01.955297Z",
     "start_time": "2020-03-15T01:25:17.861385Z"
    }
   },
   "outputs": [
    {
     "name": "stderr",
     "output_type": "stream",
     "text": [
      "INFO:root:Parsing Question...\n",
      "INFO:root:Parsing Dialogue...\n",
      "INFO:root:Parsing Report...\n",
      "INFO:root:Removing stopwords...\n",
      "INFO:root:Cleaning Sentences...\n"
     ]
    },
    {
     "data": {
      "text/plain": [
       "<__main__.QALoader at 0x7f85bbf77a90>"
      ]
     },
     "execution_count": 8,
     "metadata": {},
     "output_type": "execute_result"
    }
   ],
   "source": [
    "train_loader = QALoader(\n",
    "    stopwords_file=stopwords_file,\n",
    "    replacements_file=replacements_file,\n",
    ")\n",
    "train_loader.load(train_file)"
   ]
  },
  {
   "cell_type": "code",
   "execution_count": 9,
   "metadata": {
    "ExecuteTime": {
     "end_time": "2020-03-15T01:26:14.929367Z",
     "start_time": "2020-03-15T01:26:01.957082Z"
    }
   },
   "outputs": [
    {
     "name": "stderr",
     "output_type": "stream",
     "text": [
      "INFO:root:Parsing Question...\n",
      "INFO:root:Parsing Dialogue...\n",
      "INFO:root:Removing stopwords...\n",
      "INFO:root:Cleaning Sentences...\n"
     ]
    },
    {
     "data": {
      "text/plain": [
       "<__main__.QALoader at 0x7f85928664d0>"
      ]
     },
     "execution_count": 9,
     "metadata": {},
     "output_type": "execute_result"
    }
   ],
   "source": [
    "test_loader = QALoader(\n",
    "    df_type='test',\n",
    "    stopwords_file=stopwords_file,\n",
    "    replacements_file=replacements_file,\n",
    ")\n",
    "test_loader.load(test_file)"
   ]
  },
  {
   "cell_type": "code",
   "execution_count": 10,
   "metadata": {
    "ExecuteTime": {
     "end_time": "2020-03-15T01:26:26.861155Z",
     "start_time": "2020-03-15T01:26:14.932016Z"
    }
   },
   "outputs": [
    {
     "data": {
      "text/plain": [
       "<__main__.QACounter at 0x7f85a55ab590>"
      ]
     },
     "execution_count": 10,
     "metadata": {},
     "output_type": "execute_result"
    }
   ],
   "source": [
    "wc = QACounter()\n",
    "wc.add_loader(train_loader).add_loader(test_loader)"
   ]
  },
  {
   "cell_type": "code",
   "execution_count": 11,
   "metadata": {
    "ExecuteTime": {
     "end_time": "2020-03-15T01:26:27.384171Z",
     "start_time": "2020-03-15T01:26:26.863919Z"
    }
   },
   "outputs": [],
   "source": [
    "wc.save_df(freq_file)"
   ]
  },
  {
   "cell_type": "code",
   "execution_count": 86,
   "metadata": {
    "ExecuteTime": {
     "end_time": "2020-03-15T01:50:38.779166Z",
     "start_time": "2020-03-15T01:50:36.683434Z"
    }
   },
   "outputs": [
    {
     "data": {
      "text/plain": [
       "<__main__.QAVocab at 0x7f84c77f0f50>"
      ]
     },
     "execution_count": 86,
     "metadata": {},
     "output_type": "execute_result"
    }
   ],
   "source": [
    "vocab = QAVocab()\n",
    "vocab.load_freq_file(freq_file)"
   ]
  },
  {
   "cell_type": "code",
   "execution_count": 87,
   "metadata": {
    "ExecuteTime": {
     "end_time": "2020-03-15T01:50:41.441729Z",
     "start_time": "2020-03-15T01:50:38.780697Z"
    }
   },
   "outputs": [
    {
     "data": {
      "text/plain": [
       "<__main__.QAVocab at 0x7f84c77f0f50>"
      ]
     },
     "execution_count": 87,
     "metadata": {},
     "output_type": "execute_result"
    }
   ],
   "source": [
    "vocab.save_vocab(vocab_file)"
   ]
  },
  {
   "cell_type": "code",
   "execution_count": 88,
   "metadata": {
    "ExecuteTime": {
     "end_time": "2020-03-15T01:50:41.626283Z",
     "start_time": "2020-03-15T01:50:41.444962Z"
    },
    "scrolled": true
   },
   "outputs": [
    {
     "data": {
      "text/html": [
       "<div>\n",
       "<style scoped>\n",
       "    .dataframe tbody tr th:only-of-type {\n",
       "        vertical-align: middle;\n",
       "    }\n",
       "\n",
       "    .dataframe tbody tr th {\n",
       "        vertical-align: top;\n",
       "    }\n",
       "\n",
       "    .dataframe thead th {\n",
       "        text-align: right;\n",
       "    }\n",
       "</style>\n",
       "<table border=\"1\" class=\"dataframe\">\n",
       "  <thead>\n",
       "    <tr style=\"text-align: right;\">\n",
       "      <th></th>\n",
       "      <th>Train_Question</th>\n",
       "      <th>Train_Dialogue</th>\n",
       "      <th>Train_Report</th>\n",
       "      <th>Test_Question</th>\n",
       "      <th>Test_Dialogue</th>\n",
       "    </tr>\n",
       "  </thead>\n",
       "  <tbody>\n",
       "    <tr>\n",
       "      <th>count</th>\n",
       "      <td>82871.000000</td>\n",
       "      <td>82871.000000</td>\n",
       "      <td>82871.000000</td>\n",
       "      <td>20000.000000</td>\n",
       "      <td>20000.000000</td>\n",
       "    </tr>\n",
       "    <tr>\n",
       "      <th>mean</th>\n",
       "      <td>28.013563</td>\n",
       "      <td>118.864271</td>\n",
       "      <td>20.089223</td>\n",
       "      <td>29.193250</td>\n",
       "      <td>120.014000</td>\n",
       "    </tr>\n",
       "    <tr>\n",
       "      <th>std</th>\n",
       "      <td>28.300390</td>\n",
       "      <td>141.578053</td>\n",
       "      <td>14.676059</td>\n",
       "      <td>26.701881</td>\n",
       "      <td>152.217361</td>\n",
       "    </tr>\n",
       "    <tr>\n",
       "      <th>min</th>\n",
       "      <td>0.000000</td>\n",
       "      <td>0.000000</td>\n",
       "      <td>0.000000</td>\n",
       "      <td>1.000000</td>\n",
       "      <td>0.000000</td>\n",
       "    </tr>\n",
       "    <tr>\n",
       "      <th>10%</th>\n",
       "      <td>8.000000</td>\n",
       "      <td>15.000000</td>\n",
       "      <td>6.000000</td>\n",
       "      <td>8.000000</td>\n",
       "      <td>15.000000</td>\n",
       "    </tr>\n",
       "    <tr>\n",
       "      <th>25%</th>\n",
       "      <td>12.000000</td>\n",
       "      <td>34.000000</td>\n",
       "      <td>10.000000</td>\n",
       "      <td>12.000000</td>\n",
       "      <td>33.000000</td>\n",
       "    </tr>\n",
       "    <tr>\n",
       "      <th>50%</th>\n",
       "      <td>20.000000</td>\n",
       "      <td>76.000000</td>\n",
       "      <td>17.000000</td>\n",
       "      <td>22.000000</td>\n",
       "      <td>72.000000</td>\n",
       "    </tr>\n",
       "    <tr>\n",
       "      <th>75%</th>\n",
       "      <td>36.000000</td>\n",
       "      <td>151.000000</td>\n",
       "      <td>26.000000</td>\n",
       "      <td>37.000000</td>\n",
       "      <td>150.000000</td>\n",
       "    </tr>\n",
       "    <tr>\n",
       "      <th>90%</th>\n",
       "      <td>57.000000</td>\n",
       "      <td>267.000000</td>\n",
       "      <td>38.000000</td>\n",
       "      <td>59.000000</td>\n",
       "      <td>275.000000</td>\n",
       "    </tr>\n",
       "    <tr>\n",
       "      <th>max</th>\n",
       "      <td>2975.000000</td>\n",
       "      <td>2868.000000</td>\n",
       "      <td>571.000000</td>\n",
       "      <td>693.000000</td>\n",
       "      <td>3682.000000</td>\n",
       "    </tr>\n",
       "  </tbody>\n",
       "</table>\n",
       "</div>"
      ],
      "text/plain": [
       "       Train_Question  Train_Dialogue  Train_Report  Test_Question  \\\n",
       "count    82871.000000    82871.000000  82871.000000   20000.000000   \n",
       "mean        28.013563      118.864271     20.089223      29.193250   \n",
       "std         28.300390      141.578053     14.676059      26.701881   \n",
       "min          0.000000        0.000000      0.000000       1.000000   \n",
       "10%          8.000000       15.000000      6.000000       8.000000   \n",
       "25%         12.000000       34.000000     10.000000      12.000000   \n",
       "50%         20.000000       76.000000     17.000000      22.000000   \n",
       "75%         36.000000      151.000000     26.000000      37.000000   \n",
       "90%         57.000000      267.000000     38.000000      59.000000   \n",
       "max       2975.000000     2868.000000    571.000000     693.000000   \n",
       "\n",
       "       Test_Dialogue  \n",
       "count   20000.000000  \n",
       "mean      120.014000  \n",
       "std       152.217361  \n",
       "min         0.000000  \n",
       "10%        15.000000  \n",
       "25%        33.000000  \n",
       "50%        72.000000  \n",
       "75%       150.000000  \n",
       "90%       275.000000  \n",
       "max      3682.000000  "
      ]
     },
     "execution_count": 88,
     "metadata": {},
     "output_type": "execute_result"
    }
   ],
   "source": [
    "summaries = []\n",
    "for name, loader in zip(('Train', 'Test'), (train_loader, test_loader)):\n",
    "    for attr in loader.cols:\n",
    "        lengths = [len(s) for s in getattr(loader, attr)]\n",
    "        summary = pd.Series(lengths).describe(percentiles=[.1, .25, .5, .75, .9])\n",
    "        summary.name = f'{name}_{attr}'\n",
    "        summaries.append(summary)\n",
    "pd.concat(summaries, axis=1)"
   ]
  },
  {
   "cell_type": "code",
   "execution_count": 89,
   "metadata": {
    "ExecuteTime": {
     "end_time": "2020-03-15T01:50:42.196061Z",
     "start_time": "2020-03-15T01:50:41.628300Z"
    }
   },
   "outputs": [],
   "source": [
    "# Question and Dialogue won't be zero at the same time\n",
    "for i in range(len(train_loader.Question)):\n",
    "    if np.sum([len(getattr(train_loader, attr)[i]) for attr in ['Question', 'Dialogue']]) == 0:\n",
    "        print(i)\n",
    "        break"
   ]
  },
  {
   "cell_type": "code",
   "execution_count": 102,
   "metadata": {
    "ExecuteTime": {
     "end_time": "2020-03-20T03:18:56.241379Z",
     "start_time": "2020-03-20T03:18:56.212614Z"
    }
   },
   "outputs": [],
   "source": [
    "lengths = {\n",
    "    'len_q': 60,\n",
    "    'len_d': 240,\n",
    "    'len_r': 60,\n",
    "}"
   ]
  },
  {
   "cell_type": "code",
   "execution_count": 103,
   "metadata": {
    "ExecuteTime": {
     "end_time": "2020-03-20T03:19:31.496235Z",
     "start_time": "2020-03-20T03:18:56.244312Z"
    },
    "scrolled": true
   },
   "outputs": [
    {
     "name": "stderr",
     "output_type": "stream",
     "text": [
      "INFO:root:Masking OOV...\n",
      "INFO:root:Standardizing Length...\n",
      "INFO:root:Masking OOV...\n",
      "INFO:root:Standardizing Length...\n"
     ]
    }
   ],
   "source": [
    "train_proc = QAProcessor(vocab=vocab, **lengths, ).load_data(train_loader).mask_oov().standardize_length()\n",
    "test_proc = QAProcessor(vocab=vocab, **lengths, ).load_data(test_loader).mask_oov().standardize_length()"
   ]
  },
  {
   "cell_type": "code",
   "execution_count": 104,
   "metadata": {
    "ExecuteTime": {
     "end_time": "2020-03-20T03:19:31.510505Z",
     "start_time": "2020-03-20T03:19:31.497946Z"
    }
   },
   "outputs": [],
   "source": [
    "unmasked_sentences_path = data_path.joinpath('sentences_unmasked')\n",
    "if not unmasked_sentences_path.is_dir():\n",
    "    unmasked_sentences_path.mkdir()\n",
    "masked_sentences_path = data_path.joinpath('sentences_masked')\n",
    "if not masked_sentences_path.is_dir():\n",
    "    masked_sentences_path.mkdir()"
   ]
  },
  {
   "cell_type": "code",
   "execution_count": 105,
   "metadata": {
    "ExecuteTime": {
     "end_time": "2020-03-20T03:19:38.849658Z",
     "start_time": "2020-03-20T03:19:31.511546Z"
    }
   },
   "outputs": [],
   "source": [
    "train_proc.save(save_path=unmasked_sentences_path, prefix='train_unmasked')\n",
    "test_proc.save(save_path=unmasked_sentences_path, prefix='test_unmasked')"
   ]
  },
  {
   "cell_type": "code",
   "execution_count": 106,
   "metadata": {
    "ExecuteTime": {
     "end_time": "2020-03-20T03:20:03.801037Z",
     "start_time": "2020-03-20T03:19:38.850775Z"
    }
   },
   "outputs": [
    {
     "name": "stderr",
     "output_type": "stream",
     "text": [
      "INFO:root:Masking sentences...\n",
      "INFO:root:Masking sentences...\n"
     ]
    }
   ],
   "source": [
    "train_proc.mask_sentence().save(save_path=masked_sentences_path, prefix='train_masked')\n",
    "test_proc.mask_sentence().save(save_path=masked_sentences_path, prefix='test_masked')"
   ]
  },
  {
   "cell_type": "code",
   "execution_count": null,
   "metadata": {},
   "outputs": [],
   "source": []
  },
  {
   "cell_type": "code",
   "execution_count": null,
   "metadata": {},
   "outputs": [],
   "source": []
  }
 ],
 "metadata": {
  "kernelspec": {
   "display_name": "Python 3",
   "language": "python",
   "name": "python3"
  },
  "language_info": {
   "codemirror_mode": {
    "name": "ipython",
    "version": 3
   },
   "file_extension": ".py",
   "mimetype": "text/x-python",
   "name": "python",
   "nbconvert_exporter": "python",
   "pygments_lexer": "ipython3",
   "version": "3.7.6"
  }
 },
 "nbformat": 4,
 "nbformat_minor": 4
}
